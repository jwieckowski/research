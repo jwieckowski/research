{
 "cells": [
  {
   "cell_type": "code",
   "execution_count": 1,
   "metadata": {},
   "outputs": [],
   "source": [
    "from itertools import product, combinations\n",
    "from collections import namedtuple\n",
    "\n",
    "import numpy as np\n",
    "import matplotlib.pyplot as plt\n",
    "import seaborn as sns\n",
    "import pandas as pd\n",
    "from joblib import Parallel, delayed\n",
    "\n",
    "from scipy.stats import gmean\n",
    "import pymcdm as pm\n",
    "from pymcdm.methods.comet_tools import triads_consistency\n",
    "import pysensmcda\n",
    "import pyfdm\n",
    "import pickle"
   ]
  },
  {
   "cell_type": "markdown",
   "metadata": {},
   "source": [
    "# Fuzzy ranking"
   ]
  },
  {
   "cell_type": "code",
   "execution_count": 2,
   "metadata": {},
   "outputs": [],
   "source": [
    "def fuzzy_ranking(rankings, normalization_axis = None):\n",
    "    \"\"\"\n",
    "    Generate fuzzy ranking matrix based on positional rankings.\n",
    "\n",
    "    Parameters:\n",
    "    ------------\n",
    "    rankings : np.ndarray\n",
    "        2D array with positional rankings, where each row represents a separate positional ranking of alternatives.\n",
    "\n",
    "    normalization_axis : int, optional\n",
    "        Specifies the type of fuzzy ranking representation. \n",
    "        If 0, it normalizes the obtained fuzzy rankings regarding values in columns (by distribution of positions for alternatives).\n",
    "        If 1, it normalizes the obtained fuzzy rankings regarding values in rows (by positions in rankings).\n",
    "        If None or not specified, it returns the default fuzzy ranking matrix without data normalization.\n",
    "\n",
    "    Returns:\n",
    "    ---------\n",
    "    np.ndarray\n",
    "        Fuzzy ranking matrix based on the specified normalization_axis. Each element represents the membership degree of alternatives and ranking positions.\n",
    "\n",
    "    Example:\n",
    "    ----------\n",
    "    >>> rankings = np.array([\n",
    "    ...     [1, 2, 3, 4, 5],\n",
    "    ...     [2, 1, 5, 3, 4],\n",
    "    ...     [4, 3, 2, 5, 1],\n",
    "    ...     [3, 2, 1, 4, 5],\n",
    "    ... ])\n",
    "    >>> fuzzy_rank = fuzzy_ranking(rankings, normalization_axis=0)\n",
    "    >>> print(fuzzy_rank)\n",
    "    \"\"\"\n",
    "\n",
    "    ALT = len(rankings[0])\n",
    "\n",
    "    columns_labels = [f'A{i+1}' for i in range(ALT)]\n",
    "\n",
    "    pd_rank = pd.DataFrame(rankings, columns=columns_labels)\n",
    "    rank_prob = np.zeros((ALT, ALT))  \n",
    "\n",
    "    tie_positions = np.arange(1.5, ALT+1, 1)\n",
    "\n",
    "    for row, col in enumerate(pd_rank.columns):\n",
    "        for pos in range(ALT):\n",
    "            rank_prob[pos, row] = len(pd_rank[pd_rank[col] == pos+1])\n",
    "\n",
    "    # tie positions\n",
    "    for row, col in enumerate(pd_rank.columns):\n",
    "        for pos in tie_positions:\n",
    "            count_tie = len(pd_rank[pd_rank[col] == pos])\n",
    "            if count_tie == 0:\n",
    "                continue\n",
    "            # lower position\n",
    "            rank_prob[int(np.floor(pos))-1, row] += count_tie/2\n",
    "            # higher position\n",
    "            rank_prob[int(np.ceil(pos))-1, row] += count_tie/2\n",
    "\n",
    "    rank_prob = np.round(rank_prob / len(pd_rank), 4)\n",
    "    rank_prob = pd.DataFrame(rank_prob, columns=columns_labels)\n",
    "\n",
    "    if normalization_axis is None:\n",
    "        return rank_prob.to_numpy()\n",
    "    else:\n",
    "        M = rank_prob.to_numpy()\n",
    "        max_values = np.max(M, axis=normalization_axis)\n",
    "        if normalization_axis == 0:\n",
    "            FM = np.round(M / max_values, 4)\n",
    "        else:\n",
    "            FM = M.copy()\n",
    "            for i in range(ALT):\n",
    "                FM[i, :] = np.round(M[i, :] / max_values[i], 4)\n",
    "        return FM"
   ]
  },
  {
   "cell_type": "markdown",
   "metadata": {},
   "source": [
    "# Helper functions"
   ]
  },
  {
   "cell_type": "code",
   "execution_count": 3,
   "metadata": {},
   "outputs": [],
   "source": [
    "def norm_weights(x):\n",
    "    return x / x.sum()\n",
    "\n",
    "def random_weights(n):\n",
    "    w = (100 * np.random.rand(n)).astype('int')\n",
    "    return norm_weights(w)\n",
    "    \n",
    "def mc_weights(ranking):\n",
    "    w = (100 * np.random.rand(len(ranking))).astype('int')\n",
    "    indices = np.argsort(ranking)\n",
    "    w[indices] = np.sort(w)\n",
    "    return norm_weights(w)\n",
    "\n",
    "def modify_weights(weights, error):\n",
    "    mask = np.random.rand(len(weights)) < 0.5\n",
    "    sign = np.where(mask, 1, -1)\n",
    "    delta = weights * error * sign\n",
    "    return weights + delta"
   ]
  },
  {
   "cell_type": "markdown",
   "metadata": {},
   "source": [
    "# Aggregation procedures"
   ]
  },
  {
   "cell_type": "code",
   "execution_count": 4,
   "metadata": {},
   "outputs": [],
   "source": [
    "def fuzzy_ranking_aggregation(ranks):\n",
    "    fuzzy_rank = fuzzy_ranking(ranks, normalization_axis=1)\n",
    "    positions = np.arange(1, fuzzy_rank.shape[0]+1)\n",
    "    weighted_rank = (fuzzy_rank.T * positions).T\n",
    "    weighted_rank = np.sum(weighted_rank, axis=0)\n",
    "    return pm.helpers.rankdata(weighted_rank)\n",
    "\n",
    "def rank_position_aggregation(ranks):\n",
    "    return pysensmcda.compromise.rank_position(ranks.T)\n",
    "\n",
    "def borda_aggregation(ranks):\n",
    "    return pysensmcda.compromise.borda(ranks.T)\n",
    "\n",
    "def hq_aggregation(ranks):\n",
    "    return pysensmcda.compromise.HQ_compromise(ranks.T)\n",
    "\n",
    "def average_mean_aggregation(weights):\n",
    "    return np.mean(weights, axis=0)\n",
    "\n",
    "def geometric_mean_aggregation(weights):\n",
    "    gweights = gmean(weights)\n",
    "    return norm_weights(gweights)\n",
    "\n",
    "def triangular_fuzzy_aggregation(weights):\n",
    "    fuzzy_weights = np.vstack([np.min(weights, axis=0), np.array([np.round(gmean(weights[:, i]), 4) for i in range(weights.shape[1])]), np.max(weights, axis=0)])\n",
    "    return pyfdm.methods.utils.defuzzifications.weighted_mean_defuzzification(fuzzy_weights)"
   ]
  },
  {
   "cell_type": "markdown",
   "metadata": {},
   "source": [
    "# Evaluation metrics"
   ]
  },
  {
   "cell_type": "code",
   "execution_count": 5,
   "metadata": {},
   "outputs": [],
   "source": [
    "def calculate_mae(weights1, weights2):\n",
    "    return np.mean(np.abs(np.array(weights1) - np.array(weights2)))\n",
    "\n",
    "def calculate_mse(weights1, weights2):\n",
    "    return np.mean((np.array(weights1) - np.array(weights2)) ** 2)"
   ]
  },
  {
   "cell_type": "markdown",
   "metadata": {},
   "source": [
    "# RANCOM method"
   ]
  },
  {
   "cell_type": "code",
   "execution_count": 6,
   "metadata": {},
   "outputs": [],
   "source": [
    "class RANCOM:\n",
    "    POSSIBLE_GRADES = [0, 0.5, 1]\n",
    "    \n",
    "    def __init__(self, error_prob):\n",
    "        self.error_prob = error_prob\n",
    "    \n",
    "    def __call__(self, ranking):\n",
    "        ranking = np.array(ranking)\n",
    "        mac = self.build_mac(ranking)\n",
    "        scw = np.sum(mac, axis=1)\n",
    "        \n",
    "        return norm_weights(scw)\n",
    "    \n",
    "    def __repr__(self):\n",
    "        return f'RANCOM({self.error_prob})'\n",
    "    \n",
    "    def compare_values(self, c1, c2):\n",
    "        if np.random.rand() < self.error_prob:\n",
    "            return np.random.choice(RANCOM.POSSIBLE_GRADES)\n",
    "        else:\n",
    "            if c1 > c2:\n",
    "                return 1\n",
    "            if c1 == c2:\n",
    "                return 0.5\n",
    "        return 0\n",
    "\n",
    "    def build_mac(self, ranking):\n",
    "        co = np.array(list(ranking))\n",
    "\n",
    "        mac = np.diag(np.ones(co.shape[0]) * 0.5)\n",
    "        for i in range(mac.shape[0]):\n",
    "            for j in range(i+1, mac.shape[1]):\n",
    "                v = self.compare_values(co[i], co[j])\n",
    "                mac[i, j] = v\n",
    "                mac[j, i] = 1 - v\n",
    "        return mac\n"
   ]
  },
  {
   "cell_type": "markdown",
   "metadata": {},
   "source": [
    "# Simulation experiment"
   ]
  },
  {
   "cell_type": "code",
   "execution_count": 7,
   "metadata": {},
   "outputs": [],
   "source": [
    "def experiment(experts, diff_opinion, simulations, crit_nums, agg_procedures):\n",
    "\n",
    "    results = []\n",
    "    for crit_n in crit_nums:\n",
    "\n",
    "        wsc = []\n",
    "        rw = np.zeros((simulations, len(agg_procedures.keys()), len(agg_procedures.keys())), dtype='float')\n",
    "        ws = np.zeros((simulations, len(agg_procedures.keys()), len(agg_procedures.keys())), dtype='float')\n",
    "        mae = np.zeros((simulations*experts, len(agg_procedures.keys())), dtype='float')\n",
    "        mse = np.zeros((simulations*experts, len(agg_procedures.keys())), dtype='float')\n",
    "        topsis = pm.methods.TOPSIS()\n",
    "\n",
    "        for sim in range(simulations):\n",
    "            try:\n",
    "\n",
    "                ref_weights = random_weights(crit_n)\n",
    "                dm = np.random.random((10, crit_n))\n",
    "                types = np.random.choice([-1, 1], crit_n)\n",
    "\n",
    "                group_weights = np.zeros((experts, crit_n))\n",
    "                group_ranks = np.zeros((experts, crit_n))\n",
    "                for expert in range(experts):\n",
    "                    random_err = np.random.uniform(0, diff_opinion)\n",
    "                    modified_weights = modify_weights(ref_weights, random_err)\n",
    "                    weights_rank = pm.helpers.rrankdata(modified_weights)\n",
    "                    \n",
    "                    rancom = RANCOM(0)\n",
    "                    rancom_weights = rancom(weights_rank)\n",
    "\n",
    "                    group_weights[expert, :] = rancom_weights\n",
    "                    group_ranks[expert, :] = weights_rank\n",
    "\n",
    "                for w1 in group_weights:\n",
    "                    for w2 in group_weights:\n",
    "                        wsc.append(pm.correlations.wsc(w1, w2))\n",
    "\n",
    "                temp_ranks = []\n",
    "                group_agg_weights = np.zeros((len(agg_procedures.keys()), crit_n))\n",
    "                for idx, f in enumerate(agg_procedures.values()):\n",
    "                    if idx < 3:\n",
    "                        agg_ranking = f(group_ranks)\n",
    "                        agg_weights = rancom(agg_ranking)\n",
    "                    else:\n",
    "                        agg_weights = f(group_weights)\n",
    "                    group_agg_weights[idx, :] = agg_weights\n",
    "\n",
    "                    for weights_idx, expert_weights in enumerate(group_weights):\n",
    "\n",
    "                        arr_idx = sim * experts + weights_idx \n",
    "                        mae[arr_idx, idx] = calculate_mae(expert_weights, agg_weights)           \n",
    "                        mse[arr_idx, idx] = calculate_mse(expert_weights, agg_weights)               \n",
    "\n",
    "                    pref = topsis(dm, agg_weights, types)\n",
    "                    pref = np.nan_to_num(pref, nan=0)\n",
    "                    rank = topsis.rank(pref)\n",
    "                    temp_ranks.append(rank)\n",
    "                \n",
    "                temp_rw = []\n",
    "                temp_ws = []\n",
    "                for idx1 in range(len(agg_procedures.keys())):\n",
    "                    temp_row = []\n",
    "                    temp_row_ws = []\n",
    "                    for idx2 in range(len(agg_procedures.keys())):\n",
    "                        temp_row.append(pm.correlations.rw(temp_ranks[idx1], temp_ranks[idx2]))\n",
    "                        temp_row_ws.append(pm.correlations.ws(temp_ranks[idx1], temp_ranks[idx2]))\n",
    "                    temp_rw.append(temp_row)\n",
    "                    temp_ws.append(temp_row_ws)\n",
    "                \n",
    "                rw[sim] = temp_rw\n",
    "                ws[sim] = temp_ws\n",
    "            except:\n",
    "                continue\n",
    "\n",
    "               # Remove rows containing only zeros\n",
    "        non_zero_indices = np.where(np.any(np.any(rw, axis=2), axis=1))[0]\n",
    "        rw = rw[non_zero_indices]\n",
    "        ws = ws[non_zero_indices]\n",
    "        \n",
    "        # results.append([wsc, rw, ws, mae, mse])\n",
    "        results.append([wsc, np.mean(rw, axis=0), np.mean(ws, axis=0), mae, mse])\n",
    "    return results"
   ]
  },
  {
   "cell_type": "markdown",
   "metadata": {},
   "source": [
    "# Visualization methods"
   ]
  },
  {
   "cell_type": "code",
   "execution_count": 8,
   "metadata": {},
   "outputs": [],
   "source": [
    "def heatmap(matrix: np.ndarray, \n",
    "                title: str = \"Fuzzy Ranking Matrix\",\n",
    "                xlabel: str = \"Alternatives\",\n",
    "                ylabel: str = \"Positions\",\n",
    "                cmap: str | list = \"Blues\",\n",
    "                annotate: bool = True,\n",
    "                fmt: str = \".2f\",\n",
    "                linewidths: float = .5,\n",
    "                cbar_kwargs: dict = {'label': 'Membership Degree'},\n",
    "                figsize: tuple = (8, 6),\n",
    "                label_fontsize: int = 10,\n",
    "                title_fontsize: int = 12,\n",
    "                cbar_title_fontsize: int = 10,\n",
    "                ticks_labels_fontsize: int = 8,\n",
    "                ax: plt.Axes = None) -> plt.Axes:\n",
    "    \"\"\"\n",
    "    Visualize the fuzzy ranking matrix using a heatmap.\n",
    "\n",
    "    Parameters:\n",
    "    ------------\n",
    "    matrix : np.ndarray\n",
    "        2D matrix, for example, obtained from the 'fuzzy_ranking' function.\n",
    "\n",
    "    title : str, optional\n",
    "        Title for the visualization.\n",
    "\n",
    "    xlabel : str, optional\n",
    "        Label for the x-axis.\n",
    "\n",
    "    ylabel : str, optional\n",
    "        Label for the y-axis.\n",
    "\n",
    "    cmap : str or Colormap, optional\n",
    "        Colormap for the heatmap.\n",
    "\n",
    "    annotate : bool, optional\n",
    "        If True, write the data values in each cell.\n",
    "\n",
    "    fmt : str, optional\n",
    "        String formatting code to use when adding annotations.\n",
    "\n",
    "    linewidths : float, optional\n",
    "        Width of the lines that will divide each cell.\n",
    "\n",
    "    cbar_kwargs : dict, optional\n",
    "        Additional keyword arguments for the colorbar.\n",
    "\n",
    "    figsize : tuple, optional\n",
    "        Figure size (width, height) in inches.\n",
    "\n",
    "    label_fontsize : int, optional\n",
    "        Font size for axis labels.\n",
    "\n",
    "    title_fontsize : int, optional\n",
    "        Font size for the title.\n",
    "\n",
    "    cbar_title_fontsize : int, optional\n",
    "        Font size for the colorbar title.\n",
    "    \n",
    "    ticks_labels_fontsize : int, optional\n",
    "        Font size for the xticks and yticks labels.\n",
    "\n",
    "    ax : plt.Axes, optional\n",
    "        The axes on which to draw the heatmap. If not provided, a new figure will be created.\n",
    "\n",
    "    Returns:\n",
    "    ---------\n",
    "    plt.Axes\n",
    "\n",
    "    Examples:\n",
    "    ----------\n",
    "    >>> rankings = np.array([\n",
    "    ...     [1, 2, 3, 4, 5],\n",
    "    ...     [2, 1, 5, 3, 4],\n",
    "    ...     [4, 3, 2, 5, 1],\n",
    "    ...     [3, 2, 1, 4, 5],\n",
    "    ... ])\n",
    "    >>> fuzzy_rank = fuzzy_ranking(rankings, normalization_axis=0)\n",
    "    >>> heatmap(fuzzy_rank, title=\"Fuzzy Ranking Matrix\", figsize=(10, 8))\n",
    "\n",
    "    \"\"\"\n",
    "    \n",
    "    if ax is None:\n",
    "        plt.figure(figsize=figsize)\n",
    "        ax = plt.gca()\n",
    "    else:\n",
    "        ax = ax\n",
    "\n",
    "    sns.heatmap(matrix, cmap=cmap, annot=annotate, fmt=fmt, linewidths=linewidths, cbar_kws=cbar_kwargs, ax=ax, annot_kws={'fontsize': 14})\n",
    "    ax.figure.axes[-1].yaxis.label.set_size(cbar_title_fontsize)\n",
    "    ax.set_title(title, fontsize=title_fontsize)\n",
    "    x = np.arange(0, matrix.shape[0])\n",
    "    ax.set_xticks(x+0.5, [f'$A_{{{i+1}}}$' for i in range(len(x))], fontsize=ticks_labels_fontsize)\n",
    "    ax.set_yticks(x+0.5, [f'${i+1}$' for i in range(len(x))], fontsize=ticks_labels_fontsize)\n",
    "    ax.set_xlabel(xlabel, fontsize=label_fontsize)\n",
    "    ax.set_ylabel(ylabel, fontsize=label_fontsize)\n",
    "\n",
    "    return ax"
   ]
  },
  {
   "cell_type": "code",
   "execution_count": 9,
   "metadata": {},
   "outputs": [],
   "source": [
    "def weights_boxplot(corr, crits, experts, diffs):\n",
    "    \n",
    "    plt.rcParams['figure.figsize'] = (8, 4)\n",
    "    sns.boxenplot(corr, color='dodgerblue')\n",
    "    x = crits - np.min(crits)\n",
    "    plt.xticks(x, crits, fontsize=12)\n",
    "    plt.yticks(fontsize=12)\n",
    "    plt.grid(axis='both', color='grey', linestyle='--', alpha=0.7)\n",
    "    plt.title(f'Correlation of weights values for {experts} experts ($\\epsilon = {diffs}$)', fontsize=16)\n",
    "    plt.xlabel('No. of criteria', fontsize=14)\n",
    "    plt.ylabel('Weights similarity coefficient', fontsize=14)\n",
    "    plt.tight_layout()\n",
    "    plt.savefig(f'img/weights_boxplot_{experts}_{diffs}.pdf')\n",
    "    plt.show()\n",
    "\n",
    "\n",
    "def rank_weights_boxplot(corr, crits, experts, diffs):\n",
    "    plt.rcParams['figure.figsize'] = (8, 4)\n",
    "    sns.boxenplot(corr, color='limegreen')\n",
    "    plt.grid(axis='both', color='grey', linestyle='--', alpha=0.7)\n",
    "    x = crits - np.min(crits)\n",
    "    plt.xticks(x, crits, fontsize=12)\n",
    "    plt.yticks(fontsize=12)\n",
    "    plt.title(f'Correlation of weights ranking for {experts} experts ($\\epsilon = {diffs}$)', fontsize=16)\n",
    "    plt.xlabel('No. of criteria', fontsize=14)\n",
    "    plt.ylabel('$WS$ correlation', fontsize=14)\n",
    "    plt.tight_layout()\n",
    "    plt.savefig(f'img/rank_weights_boxplot_{experts}_{diffs}.pdf')\n",
    "    plt.show()\n",
    "\n",
    "def corr_weights_heatmap(corr, agg_procedures, experts, diffs):\n",
    "    plt.rcParams['figure.figsize'] = (14, 14)\n",
    "    heatmap(corr, '', cbar_kwargs={'label': 'Weights similarity coefficient'}, cbar_title_fontsize=14)\n",
    "    x = np.arange(0, len(agg_procedures.keys()))+0.5\n",
    "    keys = list(agg_procedures.keys())\n",
    "    plt.title(f'Correlation of aggregated weights for {experts} experts ($\\epsilon = {diffs}$)', fontsize=14)\n",
    "    plt.xticks(x, keys, fontsize=12)\n",
    "    plt.yticks(x, keys, fontsize=12)\n",
    "    plt.xlabel('')\n",
    "    plt.ylabel('')\n",
    "    plt.tight_layout()\n",
    "    plt.savefig(f'img/corr_weights_heatmap_{experts}_{diffs}.pdf')\n",
    "    plt.show()\n",
    "\n",
    "def corr_ranks_heatmap(corr, agg_procedures, label, experts, diffs):\n",
    "    plt.rcParams['figure.figsize'] = (14, 14)\n",
    "    heatmap(corr, '', cbar_kwargs={'label': label}, cbar_title_fontsize=14)\n",
    "    x = np.arange(0, len(agg_procedures.keys()))+0.5\n",
    "    keys = list(agg_procedures.keys())\n",
    "    plt.title(f'Correlation of TOPSIS rankings for {experts} experts ($\\epsilon = {diffs}$)', fontsize=14)\n",
    "    plt.xticks(x, keys, fontsize=12)\n",
    "    plt.yticks(x, keys, fontsize=12)\n",
    "    plt.xlabel('')\n",
    "    plt.ylabel('')\n",
    "    plt.tight_layout()\n",
    "    plt.savefig(f'img/corr_ranks_heatmap_{experts}_{diffs}.pdf')\n",
    "    plt.show()\n",
    "\n",
    "def errorbar_plot(values, crit_nums, title, experts, diff, measure):\n",
    "    mean_vals = np.mean(values, axis=1)\n",
    "    std_vals = np.std(values, axis=1)\n",
    "\n",
    "    step = 0.14\n",
    "    plt.rcParams['figure.figsize'] = (16, 4)\n",
    "    for i in range(len(mean_vals[0])):\n",
    "        lower_limit = std_vals[:, i]\n",
    "        lower_limit = np.array([lower_limit[k] if mean_vals[k, i] - std_vals[k, i] >= 0 else mean_vals[k, i] for k in range(len(lower_limit))])\n",
    "        x = np.arange(len(mean_vals))\n",
    "        plt.errorbar((x+step*i)-3*step+step/2, mean_vals[:, i], yerr=[lower_limit, std_vals[:, i]], fmt='o', capsize=5, label=list(agg_procedures.keys())[i].replace('\\n', ' '))\n",
    "    plt.xticks(range(len(mean_vals)), crit_nums, fontsize=16)\n",
    "    plt.yticks(fontsize=16)\n",
    "    plt.xlabel('No. of criteria', fontsize=18)\n",
    "    plt.ylabel(title, fontsize=18)\n",
    "    plt.legend(bbox_to_anchor=(0, 1.02, 1, 0.2), loc=\"lower left\",\n",
    "                    mode=\"expand\", borderaxespad=0, ncol=6, fontsize=16)\n",
    "    plt.grid(axis='both', linestyle='--', alpha=0.7, color='grey')\n",
    "    plt.title(f'{experts} experts ($\\epsilon = {diff}$)', y=0.90, fontsize=16)\n",
    "    plt.tight_layout()\n",
    "    plt.savefig(f'img/{measure}_{experts}_{diff}.pdf')\n",
    "    plt.show()\n",
    "\n"
   ]
  },
  {
   "cell_type": "code",
   "execution_count": 10,
   "metadata": {},
   "outputs": [],
   "source": [
    "agg_procedures = {\n",
    "    'Fuzzy\\nranking': fuzzy_ranking_aggregation,\n",
    "    'Borda': borda_aggregation,\n",
    "    'Rank\\nposition': rank_position_aggregation,\n",
    "    'Average\\nmean': average_mean_aggregation,\n",
    "    'Geometric\\nmean': geometric_mean_aggregation,\n",
    "    'Triangular\\nFuzzy': triangular_fuzzy_aggregation \n",
    "}"
   ]
  },
  {
   "cell_type": "code",
   "execution_count": 11,
   "metadata": {},
   "outputs": [],
   "source": [
    "np.random.seed(0)\n"
   ]
  },
  {
   "cell_type": "markdown",
   "metadata": {},
   "source": [
    "# Simulation run"
   ]
  },
  {
   "cell_type": "code",
   "execution_count": 13,
   "metadata": {},
   "outputs": [],
   "source": [
    "experts_num = [30, 40, 50]\n",
    "diff_opinions_levels = [0.2, 0.5, 0.8]\n",
    "SIM_RUNS = 1000\n",
    "crit_nums = np.arange(4, 17)\n",
    "pairs = product(experts_num, diff_opinions_levels)\n",
    "\n",
    "results = Parallel(n_jobs=16, verbose=10)(delayed(experiment)\n",
    "        (experts, diff_opinions, SIM_RUNS, crit_nums, agg_procedures) for experts, diff_opinions in pairs)"
   ]
  },
  {
   "cell_type": "code",
   "execution_count": 14,
   "metadata": {},
   "outputs": [],
   "source": [
    "# Save results to a pickle file\n",
    "with open('results.pkl', 'wb') as pickle_file:\n",
    "    pickle.dump(results, pickle_file)"
   ]
  },
  {
   "cell_type": "code",
   "execution_count": 15,
   "metadata": {},
   "outputs": [],
   "source": [
    "# Load data from the pickle file\n",
    "with open('results.pkl', 'rb') as pickle_file:\n",
    "    results = pickle.load(pickle_file)"
   ]
  },
  {
   "cell_type": "code",
   "execution_count": 16,
   "metadata": {},
   "outputs": [],
   "source": [
    "plt.rcParams['axes.axisbelow'] = True"
   ]
  },
  {
   "cell_type": "markdown",
   "metadata": {},
   "source": [
    "# Visualization generation"
   ]
  },
  {
   "cell_type": "code",
   "execution_count": 17,
   "metadata": {},
   "outputs": [],
   "source": [
    "for i in range(9):\n",
    "    pair = list(product(experts_num, diff_opinions_levels))[i]\n",
    "    all_wsc = []\n",
    "    for crit_idx in range(len(crit_nums)):\n",
    "        wsc = results[i][crit_idx][0]\n",
    "        all_wsc.append(wsc)\n",
    "    \n",
    "    df_wsc = pd.DataFrame(all_wsc)\n",
    "    df_wsc.to_csv(f'./data/all_wsc_{i}.csv')\n",
    "    \n",
    "    weights_boxplot(all_wsc, crit_nums, pair[0], pair[1])\n",
    "\n",
    "    all_rw = []\n",
    "    all_ws = []\n",
    "    for crit_idx in range(len(crit_nums)):\n",
    "        all_rw.append(results[i][crit_idx][1].astype(float))\n",
    "        all_ws.append(results[i][crit_idx][2].astype(float))\n",
    "\n",
    "    corr_ranks_heatmap(np.mean(all_rw, axis=0), agg_procedures, '$r_W$ coefficient', pair[0], pair[1])\n",
    "    corr_ranks_heatmap(np.mean(all_ws, axis=0), agg_procedures, '$WS$ coefficient', pair[0], pair[1])\n",
    "    df_rw = pd.DataFrame(np.mean(all_rw, axis=0))\n",
    "    df_rw.to_csv(f'./data/all_rw_{i}.csv')\n",
    "    df_ws = pd.DataFrame(np.mean(all_ws, axis=0))\n",
    "    df_ws.to_csv(f'./data/all_ws_{i}.csv')\n",
    "\n",
    "    all_mae = []\n",
    "    all_mse = []\n",
    "    for crit_idx in range(len(crit_nums)):\n",
    "        all_mae.append(results[i][crit_idx][3])\n",
    "        all_mse.append(results[i][crit_idx][4])\n",
    "\n",
    "    errorbar_plot(all_mae, crit_nums, 'Mean Absolute Error', pair[0], pair[1], 'mae')\n",
    "    errorbar_plot(all_mse, crit_nums, 'Mean Squared Error', pair[0], pair[1], 'mse')\n",
    "    np.save(f'all_mae_{i}.npy', np.array(all_mae))\n",
    "    np.save(f'all_mse_{i}.npy', np.array(all_mse))"
   ]
  },
  {
   "cell_type": "code",
   "execution_count": 18,
   "metadata": {},
   "outputs": [],
   "source": [
    "all_wsc = []\n",
    "for crit_idx in range(len(crit_nums)):\n",
    "    wsc = results[0][crit_idx][0]\n",
    "    all_wsc.append(wsc)"
   ]
  },
  {
   "cell_type": "code",
   "execution_count": 19,
   "metadata": {},
   "outputs": [],
   "source": [
    "weights_boxplot(all_wsc, crit_nums, 100, 0.2)\n"
   ]
  },
  {
   "cell_type": "code",
   "execution_count": 20,
   "metadata": {},
   "outputs": [],
   "source": [
    "all_rw = []\n",
    "all_ws = []\n",
    "for crit_idx in range(len(crit_nums)):\n",
    "    all_rw.extend(results[0][crit_idx][1].astype(float))\n",
    "    all_ws.extend(results[0][crit_idx][2].astype(float))"
   ]
  },
  {
   "cell_type": "code",
   "execution_count": 21,
   "metadata": {},
   "outputs": [],
   "source": [
    "corr_ranks_heatmap(np.mean(all_rw, axis=0), agg_procedures, '$r_W$ coefficient', 100, 0.2)"
   ]
  },
  {
   "cell_type": "code",
   "execution_count": 22,
   "metadata": {},
   "outputs": [],
   "source": [
    "corr_ranks_heatmap(np.mean(all_ws, axis=0), agg_procedures, '$WS$ coefficient', 100, 0.2)"
   ]
  },
  {
   "cell_type": "code",
   "execution_count": 23,
   "metadata": {},
   "outputs": [],
   "source": [
    "all_mae = []\n",
    "all_mse = []\n",
    "for crit_idx in range(len(crit_nums)):\n",
    "    all_mae.append(results[0][crit_idx][3])\n",
    "    all_mse.append(results[0][crit_idx][4])"
   ]
  },
  {
   "cell_type": "code",
   "execution_count": 24,
   "metadata": {},
   "outputs": [],
   "source": [
    "mean_vals = np.mean(all_mae, axis=1)\n",
    "std_vals = np.std(all_mae, axis=1)\n",
    "\n",
    "step = 0.14\n",
    "plt.rcParams['figure.figsize'] = (16, 4)\n",
    "for i in range(len(mean_vals[0])):\n",
    "    lower_limit = std_vals[:, i]\n",
    "    lower_limit = np.array([lower_limit[k] if mean_vals[k, i] - std_vals[k, i] >= 0 else mean_vals[k, i] for k in range(len(lower_limit))])\n",
    "    x = np.arange(len(mean_vals))\n",
    "    plt.errorbar((x+step*i)-3*step+step/2, mean_vals[:, i], yerr=[lower_limit, std_vals[:, i]], fmt='o', capsize=5, label=list(agg_procedures.keys())[i].replace('\\n', ' '))\n",
    "plt.xticks(range(len(mean_vals)), crit_nums, fontsize=14)\n",
    "plt.yticks(fontsize=14)\n",
    "plt.xlabel('No. of criteria', fontsize=16)\n",
    "plt.ylabel('Mean Absolute Error', fontsize=16)\n",
    "plt.legend(bbox_to_anchor=(0, 1.02, 1.0, 0.2), loc=\"lower left\",\n",
    "                mode=\"expand\", borderaxespad=0, ncol=6, fontsize=14)\n",
    "plt.grid(axis='both', linestyle='--', alpha=0.7, color='grey')\n",
    "plt.title(f'{30} experts ($\\epsilon = {0.8}$)', y=0.90, fontsize=14)\n",
    "plt.show()\n",
    "\n"
   ]
  },
  {
   "cell_type": "code",
   "execution_count": 25,
   "metadata": {},
   "outputs": [],
   "source": [
    "mean_vals = np.mean(all_mse, axis=1)\n",
    "std_vals = np.std(all_mse, axis=1)\n",
    "\n",
    "step = 0.14\n",
    "plt.rcParams['figure.figsize'] = (16, 4)\n",
    "for i in range(len(mean_vals[0])):\n",
    "    lower_limit = std_vals[:, i]\n",
    "    lower_limit = np.array([lower_limit[k] if mean_vals[k, i] - std_vals[k, i] >= 0 else mean_vals[k, i] for k in range(len(lower_limit))])\n",
    "    x = np.arange(len(mean_vals))\n",
    "    plt.errorbar((x+step*i)-3*step+step/2, mean_vals[:, i], yerr=[lower_limit, std_vals[:, i]], fmt='o', capsize=5, label=list(agg_procedures.keys())[i].replace('\\n', ' '))\n",
    "plt.xticks(range(len(mean_vals)), crit_nums, fontsize=14)\n",
    "plt.yticks(fontsize=14)\n",
    "plt.xlabel('No. of criteria', fontsize=16)\n",
    "plt.ylabel('Mean Squared Error', fontsize=16)\n",
    "plt.legend(bbox_to_anchor=(0, 1.02, 1, 0.2), loc=\"lower left\",\n",
    "                mode=\"expand\", borderaxespad=0, ncol=6, fontsize=14)\n",
    "plt.grid(axis='both', linestyle='--', alpha=0.7, color='grey')\n",
    "plt.title(f'{30} experts ($\\epsilon = {0.8}$)', y=0.90, fontsize=14)\n",
    "plt.show()\n"
   ]
  },
  {
   "cell_type": "markdown",
   "metadata": {},
   "source": [
    "# Practical problem\n",
    "\n",
    "Solar panels evaluation for PV farm"
   ]
  },
  {
   "cell_type": "markdown",
   "metadata": {},
   "source": [
    "Practical problem"
   ]
  },
  {
   "cell_type": "code",
   "execution_count": 26,
   "metadata": {},
   "outputs": [],
   "source": [
    "matrix = np.array([\n",
    "    [42.8000, 10.8200, 21.4000, 213.8728, 358.9595, 10.1156],\n",
    "    [40.9300, 9.8200, 19.3600, 193.2515, 105.1288, 11.0429],\n",
    "    [40.2000, 9.9800, 19.3600, 193.2515, 139.2638, 11.0429],\n",
    "    [40.6000, 10.4000, 19.6000, 196.4286, 100.5952, 10.7143],\n",
    "    [41.2000, 10.3500, 19.7000, 196.5318, 230.0578, 10.4046],\n",
    "    [43.3000, 10.5000, 20.8000, 208.0925, 344.7399, 10.4046],\n",
    "    [41.6700, 10.0800, 19.4800, 188.6228, 107.7844, 11.1377],\n",
    "    [40.5600, 9.9400, 19.0000, 189.3491, 167.7515, 11.0651],\n",
    "    [40.6000, 10.0000, 19.3000, 192.7711, 124.6988, 11.3253],\n",
    "    [40.5000, 10.2000, 19.2100, 191.6168, 153.2934, 11.3772],\n",
    "    [43.3000, 9.5100, 19.5700, 189.3491, 133.8757, 11.3609],\n",
    "    [45.0400, 10.5000, 20.1000, 200.0000, 156.8421, 10.2632],\n",
    "    [44.0000, 10.3700, 20.6000, 205.7143, 228.0000, 11.1429],\n",
    "    [44.3000, 10.2600, 20.9000, 208.5714, 170.8571, 11.1429],\n",
    "    [44.2000, 10.5800, 21.4000, 214.2857, 194.2857, 11.1429],\n",
    "    [40.6600, 10.5200, 19.0000, 189.9441, 135.3352, 11.1173],\n",
    "    [45.4000, 10.2000, 19.7000, 196.7213, 133.8798, 10.9290],\n",
    "    [41.0000, 10.9200, 18.7000, 187.5000, 135.0978, 11.0326],\n",
    "    [48.0000, 10.8300, 21.0000, 211.0553, 248.7437, 10.3015],\n",
    "    [49.8600, 10.3900, 20.2000, 201.4925, 101.9900, 10.2985],\n",
    "    [48.3000, 9.6000, 20.5000, 204.4199, 218.2320, 11.6022],\n",
    "    [47.6200, 9.6600, 18.6000, 186.5285, 133.1606, 11.2953],\n",
    "    [49.6000, 10.6600, 20.4000, 206.4677, 101.9900, 10.9453],\n",
    "    [46.8000, 9.5900, 17.8900, 179.2929, 81.3990, 11.3636],\n",
    "    [51.2000, 10.2900, 20.2000, 201.9704, 111.8227, 11.2315],\n",
    "    [48.9100, 10.2200, 20.2000, 202.0202, 143.8889, 11.6162],\n",
    "    [48.9100, 10.7900, 20.3800, 203.9801, 137.3134, 11.4428],\n",
    "    [49.1400, 11.0500, 19.1000, 190.9091, 131.5636, 10.6364],\n",
    "    [49.0000, 10.2400, 19.9000, 198.0198, 176.2376, 11.6337],\n",
    "    [49.3300, 10.8300, 20.1000, 200.9346, 111.3178, 11.6822]\n",
    "])\n",
    "criteria_types = np.array([-1, 1, 1, 1, -1, -1])"
   ]
  },
  {
   "cell_type": "code",
   "execution_count": 27,
   "metadata": {},
   "outputs": [],
   "source": [
    "results = []\n",
    "wsc = []\n",
    "ws = []\n",
    "\n",
    "experts = 50\n",
    "diff_opinion = 0.8\n",
    "\n",
    "topsis = pm.methods.TOPSIS()\n",
    "\n",
    "ref_weights = pm.weights.entropy_weights(matrix)\n",
    "\n",
    "crit_n = matrix.shape[1]\n",
    "group_weights = np.zeros((experts, crit_n))\n",
    "group_ranks = np.zeros((experts, crit_n))\n",
    "for expert in range(experts):\n",
    "    random_err = np.random.uniform(0, diff_opinion)\n",
    "    modified_weights = modify_weights(ref_weights, random_err)\n",
    "    weights_rank = pm.helpers.rrankdata(modified_weights)\n",
    "    \n",
    "    rancom = RANCOM(0)\n",
    "    rancom_weights = rancom(weights_rank)\n",
    "\n",
    "    group_weights[expert, :] = rancom_weights\n",
    "    group_ranks[expert, :] = weights_rank\n",
    "\n",
    "for w1 in group_weights:\n",
    "    for w2 in group_weights:\n",
    "        wsc.append(pm.correlations.wsc(w1, w2))\n",
    "\n",
    "temp_ranks = []\n",
    "group_agg_weights = np.zeros((len(agg_procedures.keys()), crit_n))\n",
    "for idx, f in enumerate(agg_procedures.values()):\n",
    "    if idx < 3:\n",
    "        agg_ranking = f(group_ranks)\n",
    "        agg_weights = rancom(agg_ranking)\n",
    "    else:\n",
    "        agg_weights = f(group_weights)\n",
    "    group_agg_weights[idx, :] = agg_weights\n",
    "\n",
    "    pref = topsis(matrix, agg_weights, criteria_types)\n",
    "    pref = np.nan_to_num(pref, nan=0)\n",
    "    rank = topsis.rank(pref)\n",
    "    temp_ranks.append(rank)\n",
    "\n",
    "for idx1 in range(len(agg_procedures.keys())):\n",
    "    temp_row_ws = []\n",
    "    for idx2 in range(len(agg_procedures.keys())):\n",
    "        temp_row_ws.append(pm.correlations.rw(temp_ranks[idx1], temp_ranks[idx2]))\n",
    "    ws.append(temp_row_ws)\n",
    "\n"
   ]
  },
  {
   "cell_type": "code",
   "execution_count": 28,
   "metadata": {},
   "outputs": [
    {
     "name": "stdout",
     "output_type": "stream",
     "text": [
      "0.87\n",
      "0.07\n"
     ]
    }
   ],
   "source": [
    "print(np.round(np.mean(wsc), 2))\n",
    "print(np.round(np.std(wsc), 2))"
   ]
  },
  {
   "cell_type": "code",
   "execution_count": 29,
   "metadata": {},
   "outputs": [
    {
     "data": {
      "image/png": "[encoded data removed]",
      "text/plain": [
       "<Figure size 576x432 with 2 Axes>"
      ]
     },
     "metadata": {
      "needs_background": "light"
     },
     "output_type": "display_data"
    }
   ],
   "source": [
    "heatmap(np.round(np.array(ws), 2), title='', cbar_title_fontsize=12, cbar_kwargs={'label': \"Weighted Spearman ($r_W$) coefficient value\"}, ticks_labels_fontsize=12, label_fontsize=14)\n",
    "keys = list(agg_procedures.keys())\n",
    "x = np.arange(0, 6)+0.5\n",
    "plt.xticks(x, keys, fontsize=10)\n",
    "plt.yticks(x, keys, fontsize=10)\n",
    "plt.savefig('img/panels_heatmap_rw.pdf')\n",
    "plt.show()"
   ]
  },
  {
   "cell_type": "code",
   "execution_count": 31,
   "metadata": {},
   "outputs": [
    {
     "data": {
      "text/plain": [
       "[array([ 1., 21., 19., 10.,  6.,  3., 20., 23., 26., 24., 28.,  4., 12.,\n",
       "        11.,  9., 16., 15., 13.,  2.,  5., 27., 29.,  8., 30., 18., 22.,\n",
       "        14.,  7., 25., 17.]),\n",
       " array([ 1., 24., 20., 10.,  9.,  3., 21., 25., 26., 23., 28.,  4., 13.,\n",
       "        14.,  7., 16., 17., 11.,  2.,  6., 27., 29.,  8., 30., 18., 19.,\n",
       "        12.,  5., 22., 15.]),\n",
       " array([ 1., 24., 20., 10.,  9.,  3., 21., 25., 26., 23., 28.,  4., 13.,\n",
       "        14.,  7., 16., 17., 11.,  2.,  6., 27., 29.,  8., 30., 18., 19.,\n",
       "        12.,  5., 22., 15.]),\n",
       " array([ 1., 24., 20., 12.,  8.,  3., 22., 27., 26., 23., 28.,  4., 11.,\n",
       "        10.,  5., 18., 17., 14.,  2.,  6., 25., 29.,  7., 30., 16., 19.,\n",
       "        13.,  9., 21., 15.]),\n",
       " array([ 1., 24., 20., 12.,  8.,  3., 22., 27., 26., 23., 28.,  4., 11.,\n",
       "        10.,  5., 18., 17., 14.,  2.,  6., 25., 29.,  7., 30., 16., 19.,\n",
       "        13.,  9., 21., 15.]),\n",
       " array([ 1., 23., 19.,  9.,  6.,  3., 20., 25., 24., 21., 28.,  4., 11.,\n",
       "        10.,  5., 16., 17., 14.,  2.,  7., 27., 29.,  8., 30., 18., 22.,\n",
       "        13., 12., 26., 15.])]"
      ]
     },
     "execution_count": 31,
     "metadata": {},
     "output_type": "execute_result"
    }
   ],
   "source": [
    "temp_ranks"
   ]
  },
  {
   "cell_type": "code",
   "execution_count": 62,
   "metadata": {},
   "outputs": [
    {
     "data": {
      "image/png": "[encoded data removed]",
      "text/plain": [
       "<Figure size 1080x360 with 1 Axes>"
      ]
     },
     "metadata": {
      "needs_background": "light"
     },
     "output_type": "display_data"
    }
   ],
   "source": [
    "plt.rcParams['figure.figsize'] = (15, 5)\n",
    "pm.visuals.ranking_bar(np.array(temp_ranks), labels=list(agg_procedures.keys()), legend_ncol=6)\n",
    "plt.legend(bbox_to_anchor=(0., 1.02, 1., .102), loc='lower left',\n",
    "           ncol=6, mode=\"expand\", borderaxespad=0., fontsize=14)\n",
    "plt.xticks(fontsize=14)\n",
    "y = np.array([1, 5, 10, 15, 20, 25, 30])\n",
    "plt.yticks(y, y, fontsize=14)\n",
    "plt.ylabel('Ranking position', fontsize=14)\n",
    "plt.tight_layout()\n",
    "plt.savefig('img/ranking_bar.pdf')\n",
    "plt.show()"
   ]
  }
 ],
 "metadata": {
  "kernelspec": {
   "display_name": "Python 3.10.5 64-bit",
   "language": "python",
   "name": "python3"
  },
  "language_info": {
   "codemirror_mode": {
    "name": "ipython",
    "version": 3
   },
   "file_extension": ".py",
   "mimetype": "text/x-python",
   "name": "python",
   "nbconvert_exporter": "python",
   "pygments_lexer": "ipython3",
   "version": "3.10.5"
  },
  "orig_nbformat": 4,
  "vscode": {
   "interpreter": {
    "hash": "eabca979b0553fa6d87e9a00c352604d3b703d4afc9641643dd42376492b80f6"
   }
  }
 },
 "nbformat": 4,
 "nbformat_minor": 2
}
