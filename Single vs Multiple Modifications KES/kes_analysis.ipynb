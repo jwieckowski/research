{
 "cells": [
  {
   "cell_type": "code",
   "execution_count": 13,
   "metadata": {},
   "outputs": [],
   "source": [
    "import numpy as np\n",
    "import itertools\n",
    "import pymcdm.normalizations as norm\n",
    "from pymcdm.methods import *\n",
    "from pymcdm.helpers import rrankdata\n",
    "import matplotlib.pyplot as plt\n",
    "from mpl_toolkits.axes_grid1 import make_axes_locatable"
   ]
  },
  {
   "cell_type": "markdown",
   "metadata": {},
   "source": [
    "# EXAMPLE"
   ]
  },
  {
   "cell_type": "code",
   "execution_count": 14,
   "metadata": {},
   "outputs": [],
   "source": [
    "matrix = np.array([\n",
    "    [3.15, 2.29, 1.81],\n",
    "    [3.20, 2.42, 1.78],\n",
    "])\n",
    "\n",
    "weights = np.array([0.43, 0.33, 0.24])\n",
    "types = np.array([1, -1, 1])"
   ]
  },
  {
   "cell_type": "code",
   "execution_count": 15,
   "metadata": {},
   "outputs": [
    {
     "name": "stdout",
     "output_type": "stream",
     "text": [
      "[0.73002812 0.26997188]\n"
     ]
    }
   ],
   "source": [
    "mcda = TOPSIS(normalization_function=norm.max_normalization)\n",
    "pref = mcda(matrix, weights, types)\n",
    "print(pref)"
   ]
  },
  {
   "cell_type": "code",
   "execution_count": 16,
   "metadata": {},
   "outputs": [
    {
     "name": "stdout",
     "output_type": "stream",
     "text": [
      "[(0, 1), (0, 2), (1, 2)]\n",
      "[(0, 0), (0, 1), (0, 2), (1, 0), (1, 1), (1, 2), (2, 0), (2, 1), (2, 2), (3, 0), (3, 1), (3, 2)]\n"
     ]
    }
   ],
   "source": [
    "modifications = np.array([3, 2, 4])\n",
    "\n",
    "criteria_set = np.arange(0, matrix.shape[1], 1)\n",
    "C = list(itertools.combinations(criteria_set, 2))\n",
    "print(C)\n",
    "\n",
    "a = np.arange(0, modifications[0]+1)\n",
    "b = np.arange(0, modifications[1]+1)\n",
    "M = list(itertools.product(*[a, b]))\n",
    "print(M)"
   ]
  },
  {
   "cell_type": "code",
   "execution_count": 17,
   "metadata": {},
   "outputs": [
    {
     "name": "stdout",
     "output_type": "stream",
     "text": [
      "Modifications of decision matrix for alternative A1 and criteria indexes (0, 1)\n",
      "(0, 0) 3.15 2.29\n",
      "(0, 1) 3.15 2.267\n",
      "(0, 2) 3.15 2.244\n",
      "(1, 0) 3.182 2.29\n",
      "(1, 1) 3.182 2.267\n",
      "(1, 2) 3.182 2.244\n",
      "(2, 0) 3.213 2.29\n",
      "(2, 1) 3.213 2.267\n",
      "(2, 2) 3.213 2.244\n",
      "(3, 0) 3.244 2.29\n",
      "(3, 1) 3.244 2.267\n",
      "(3, 2) 3.244 2.244\n"
     ]
    }
   ],
   "source": [
    "print('Modifications of decision matrix for alternative A1 and criteria indexes (0, 1)')\n",
    "for alternative in range(1):\n",
    "    error_alt = []\n",
    "    for comb in C:\n",
    "        error_comb = []\n",
    "        for improve in M:\n",
    "            both_crit_matrix = matrix.copy()\n",
    "            \n",
    "            if types[comb[0]] == 1:\n",
    "                # both criterion modified\n",
    "                both_crit_matrix[alternative, comb[0]] = both_crit_matrix[alternative, comb[0]] + (both_crit_matrix[alternative, comb[0]] * improve[0]) / 100\n",
    "            else:\n",
    "                # both criterion modified\n",
    "                both_crit_matrix[alternative, comb[0]] = both_crit_matrix[alternative, comb[0]] - (both_crit_matrix[alternative, comb[0]] * improve[0]) / 100\n",
    "            \n",
    "            if types[comb[1]] == 1:\n",
    "                # both criterion modified\n",
    "                both_crit_matrix[alternative, comb[1]] = both_crit_matrix[alternative, comb[1]] + (both_crit_matrix[alternative, comb[1]] * improve[1]) / 100    \n",
    "            else:\n",
    "                # both criterion modified\n",
    "                both_crit_matrix[alternative, comb[1]] = both_crit_matrix[alternative, comb[1]] - (both_crit_matrix[alternative, comb[1]] * improve[1]) / 100    \n",
    "            \n",
    "            print(improve, round(both_crit_matrix[alternative, comb[0]], 3), round(both_crit_matrix[alternative, comb[1]], 3))\n",
    "        break"
   ]
  },
  {
   "cell_type": "markdown",
   "metadata": {},
   "source": [
    "# INPUT DATA"
   ]
  },
  {
   "cell_type": "code",
   "execution_count": 18,
   "metadata": {},
   "outputs": [],
   "source": [
    "matrix = np.array([\n",
    "    [4, 4, 0.2],\n",
    "    [1, 5, 0.5],\n",
    "    [3, 2, 0.3],\n",
    "    [4, 2, 0.5]\n",
    "])\n",
    "\n",
    "weights = np.array([0.3, 0.5, 0.2])\n",
    "types = np.array([1, -1, 1])"
   ]
  },
  {
   "cell_type": "markdown",
   "metadata": {},
   "source": [
    "# RESEARCH APPROACH METHOD"
   ]
  },
  {
   "cell_type": "code",
   "execution_count": 19,
   "metadata": {},
   "outputs": [],
   "source": [
    "def generate_combinations(matrix, min_crit=2):\n",
    "\n",
    "    criteria_set = np.arange(0, matrix.shape[1], 1)\n",
    "\n",
    "    return list(itertools.combinations(criteria_set, min_crit))\n",
    "\n",
    "def generate_modifications_combinations(combinations, n=100):\n",
    "    n = 100\n",
    "    changes = np.arange(0, n+1)\n",
    "\n",
    "    return list(itertools.product(*[changes, changes]))\n",
    "\n",
    "c = generate_combinations(matrix, 2)\n",
    "m = generate_modifications_combinations(c)\n"
   ]
  },
  {
   "cell_type": "code",
   "execution_count": 20,
   "metadata": {},
   "outputs": [
    {
     "name": "stdout",
     "output_type": "stream",
     "text": [
      "[(0, 1), (0, 2), (1, 2)]\n",
      "[(0, 0), (0, 1), (0, 2), (0, 3), (0, 4), (0, 5), (0, 6), (0, 7), (0, 8), (0, 9)]\n"
     ]
    }
   ],
   "source": [
    "print(c)\n",
    "print(m[0:10])"
   ]
  },
  {
   "cell_type": "code",
   "execution_count": 21,
   "metadata": {},
   "outputs": [],
   "source": [
    "def examine_error(matrix, weights, types, method, modification_size = 100):\n",
    "    \n",
    "    base_pref = method(matrix, weights, types)\n",
    "\n",
    "    data = []\n",
    "    error = []\n",
    "\n",
    "    # combinations\n",
    "    c_combs = generate_combinations(matrix)\n",
    "    changes_combs = generate_modifications_combinations(c_combs, modification_size)\n",
    "\n",
    "    for alternative in range(matrix.shape[0]):\n",
    "    # for alternative in range(1):\n",
    "        error_alt = []\n",
    "        for comb in c_combs:\n",
    "            error_comb = []\n",
    "            for improve in changes_combs:\n",
    "                first_crit_matrix = matrix.copy()\n",
    "                second_crit_matrix = matrix.copy()\n",
    "                both_crit_matrix = matrix.copy()\n",
    "                \n",
    "                if types[comb[0]] == 1:\n",
    "                    # first criterion modified\n",
    "                    first_crit_matrix[alternative, comb[0]] = first_crit_matrix[alternative, comb[0]] + (first_crit_matrix[alternative, comb[0]] * improve[0]) / 100\n",
    "                    # both criterion modified\n",
    "                    both_crit_matrix[alternative, comb[0]] = both_crit_matrix[alternative, comb[0]] + (both_crit_matrix[alternative, comb[0]] * improve[0]) / 100\n",
    "                else:\n",
    "                    # first criterion modified\n",
    "                    first_crit_matrix[alternative, comb[0]] = first_crit_matrix[alternative, comb[0]] - (first_crit_matrix[alternative, comb[0]] * improve[0]) / 100\n",
    "                    # both criterion modified\n",
    "                    both_crit_matrix[alternative, comb[0]] = both_crit_matrix[alternative, comb[0]] - (both_crit_matrix[alternative, comb[0]] * improve[0]) / 100\n",
    "                \n",
    "                if types[comb[1]] == 1:\n",
    "                    # second criterion modified\n",
    "                    second_crit_matrix[alternative, comb[1]] = second_crit_matrix[alternative, comb[1]] + (second_crit_matrix[alternative, comb[1]] * improve[1]) / 100\n",
    "                    # both criterion modified\n",
    "                    both_crit_matrix[alternative, comb[1]] = both_crit_matrix[alternative, comb[1]] + (both_crit_matrix[alternative, comb[1]] * improve[1]) / 100    \n",
    "                else:\n",
    "                    # second criterion modified\n",
    "                    second_crit_matrix[alternative, comb[1]] = second_crit_matrix[alternative, comb[1]] - (second_crit_matrix[alternative, comb[1]] * improve[1]) / 100\n",
    "                    # both criterion modified\n",
    "                    both_crit_matrix[alternative, comb[1]] = both_crit_matrix[alternative, comb[1]] - (both_crit_matrix[alternative, comb[1]] * improve[1]) / 100    \n",
    "                \n",
    "                first_crit_prefs = method(first_crit_matrix, weights, types)\n",
    "                second_crit_prefs = method(second_crit_matrix, weights, types)\n",
    "                both_crit_prefs = method(both_crit_matrix, weights, types)\n",
    "\n",
    "                data.append({\n",
    "                    'combs': comb,\n",
    "                    'improve': improve,\n",
    "                    'first_matrix': first_crit_matrix,\n",
    "                    'second_matrix': second_crit_matrix, \n",
    "                    'both_matrix': both_crit_matrix, \n",
    "                    'first_pref': first_crit_prefs[alternative], \n",
    "                    'second_pref': second_crit_prefs[alternative],\n",
    "                    'both_pref': both_crit_prefs[alternative],\n",
    "                    'error': (both_crit_prefs[alternative] - base_pref[alternative]) - ((first_crit_prefs[alternative] - base_pref[alternative]) + (second_crit_prefs[alternative] - base_pref[alternative]))\n",
    "                })\n",
    "                # calculation of difference in preferences\n",
    "                error_comb.append((both_crit_prefs[alternative] - base_pref[alternative]) - ((first_crit_prefs[alternative] - base_pref[alternative]) + (second_crit_prefs[alternative] - base_pref[alternative])))\n",
    "            error_alt.append(error_comb)\n",
    "\n",
    "        error.append(error_alt)\n",
    "    \n",
    "    return data, error"
   ]
  },
  {
   "cell_type": "markdown",
   "metadata": {},
   "source": [
    "## INITIAL PREFERENCES"
   ]
  },
  {
   "cell_type": "code",
   "execution_count": 24,
   "metadata": {},
   "outputs": [
    {
     "name": "stdout",
     "output_type": "stream",
     "text": [
      "TOPSIS: [0.514 0.242 0.755 1.   ]\n",
      "ARAS: [0.6   0.344 0.806 1.   ]\n",
      "MARCOS: [0.582 0.333 0.782 0.97 ]\n",
      "VIKOR: [0.667 1.    0.279 0.   ]\n",
      "WASPAS: [0.426 0.138 0.643 0.787]\n",
      "OCRA: [0.205 0.    0.37  0.525]\n",
      "CODAS: [-0.393 -1.718  0.633  1.477]\n",
      "WPM: [0.372 0.    0.642 0.775]\n",
      "MAIRCA: [0.13  0.181 0.089 0.05 ]\n",
      "MABAC: [-0.044 -0.249  0.121  0.276]\n"
     ]
    }
   ],
   "source": [
    "methods_dict = {\n",
    "    'TOPSIS': TOPSIS(normalization_function=norm.max_normalization),\n",
    "    'ARAS': ARAS(normalization_function=norm.max_normalization),\n",
    "    'MARCOS': MARCOS(normalization_function=norm.max_normalization),\n",
    "    'VIKOR': VIKOR(normalization_function=norm.max_normalization),\n",
    "    'WASPAS': WASPAS(normalization_function=norm.max_normalization),\n",
    "    'OCRA': OCRA(normalization_function=norm.max_normalization),\n",
    "    'CODAS': CODAS(normalization_function=norm.max_normalization),\n",
    "    'WPM': WPM(normalization_function=norm.max_normalization),\n",
    "    'MAIRCA': MAIRCA(normalization_function=norm.max_normalization),\n",
    "    'MABAC': MABAC(normalization_function=norm.max_normalization)\n",
    "}\n",
    "\n",
    "for name, method in methods_dict.items():\n",
    "    prefs_results = method(matrix, weights, types)\n",
    "    print(f'{name}: {np.round(prefs_results, 3)}')"
   ]
  },
  {
   "cell_type": "markdown",
   "metadata": {},
   "source": [
    "# SENSITIVITY ANALYSIS EVALUATION"
   ]
  },
  {
   "cell_type": "code",
   "execution_count": 31,
   "metadata": {},
   "outputs": [],
   "source": [
    "for name, method in methods_dict.items():\n",
    "    data, error = examine_error(matrix, weights, types, method, 100)\n",
    "    combs = generate_combinations(matrix)\n",
    "\n",
    "    for alt in range(len(error)):\n",
    "        \n",
    "        for comb in range(len(error[alt])):\n",
    "            error_matrix = np.array(error[alt][comb]).reshape(101, 101)\n",
    "\n",
    "            fig, ax = plt.subplots(figsize=(5, 5))\n",
    "            plt.title(f'{name} $A_{{{alt+1}}}$', fontsize=18)\n",
    "            ticks = np.arange(0, 101, 20)\n",
    "            ticks_labels = [f'{x}%' for x in ticks]\n",
    "            plt.xticks(ticks, ticks_labels, fontsize=12)\n",
    "            plt.yticks(ticks, ticks_labels, fontsize=12)\n",
    "            plt.ylabel(f'$C_{{{combs[comb][0]+1}}}$', fontsize=14)\n",
    "            plt.xlabel(f'$C_{{{combs[comb][1]+1}}}$', fontsize=14)\n",
    "            plt.imshow(error_matrix, cmap='Blues')\n",
    "\n",
    "            divider = make_axes_locatable(ax)\n",
    "            cax = divider.append_axes(\"right\", size=\"5%\", pad=0.1)\n",
    "            cbar = plt.colorbar(cax=cax)\n",
    "\n",
    "            plt.title('Preference\\ndifference', fontsize=10)\n",
    "            cbar_labels = None\n",
    "            if np.max(error_matrix) != np.min(error_matrix): \n",
    "                step = (np.max(error_matrix) - np.min(error_matrix)) / 5\n",
    "\n",
    "                if abs(np.min(error_matrix) - np.max(error_matrix)) < 0.00001:  \n",
    "                    cbar_ticks = np.linspace(np.min(error_matrix), np.max(error_matrix), 5, endpoint=True)\n",
    "                    cbar_labels = [f'{x:.2e}' for x in np.linspace(np.min(error_matrix), np.max(error_matrix), 5, endpoint=True)]\n",
    "                else:\n",
    "                    cbar_ticks = np.round(np.linspace(np.min(error_matrix), np.max(error_matrix), 5, endpoint=True), 4)\n",
    "            else:\n",
    "                cbar_ticks = [np.round(np.min(error_matrix), 3)]\n",
    "\n",
    "            cbar.ax.set_yticks(cbar_ticks)\n",
    "            if cbar_labels is None:\n",
    "                cbar.ax.set_yticklabels(cbar_ticks)\n",
    "            else:\n",
    "                cbar.ax.set_yticklabels(cbar_labels)\n",
    "\n",
    "\n",
    "            plt.tight_layout()\n",
    "            plt.savefig(f'img/{name}_a{alt+1}_comb{comb}.pdf')\n",
    "            plt.close()"
   ]
  },
  {
   "cell_type": "code",
   "execution_count": 32,
   "metadata": {},
   "outputs": [],
   "source": [
    "changes_methods = []\n",
    "\n",
    "for name, method in methods_dict.items():\n",
    "    data, error = examine_error(matrix, weights, types, method, 100)\n",
    "    combs = generate_combinations(matrix)\n",
    "\n",
    "    changes_counter = 0\n",
    "\n",
    "    for alt in range(len(error)):\n",
    "        \n",
    "        for comb in range(len(error[alt])):\n",
    "            error_matrix = np.array(error[alt][comb]).reshape(101, 101)\n",
    "\n",
    "            fig, ax = plt.subplots(figsize=(5, 5))\n",
    "            plt.title(f'{name} $A_{{{alt+1}}}$', fontsize=18)\n",
    "            ticks = np.arange(0, 101, 20)\n",
    "            ticks_labels = [f'{x}%' for x in ticks]\n",
    "            plt.xticks(ticks, ticks_labels, fontsize=12)\n",
    "            plt.yticks(ticks, ticks_labels, fontsize=12)\n",
    "            plt.ylabel(f'$C_{{{combs[comb][0]+1}}}$', fontsize=14)\n",
    "            plt.xlabel(f'$C_{{{combs[comb][1]+1}}}$', fontsize=14)\n",
    "            plt.imshow(error_matrix, cmap='Blues', interpolation='None')\n",
    "\n",
    "            divider = make_axes_locatable(ax)\n",
    "            cax = divider.append_axes(\"right\", size=\"5%\", pad=0.1)\n",
    "            cbar = plt.colorbar(cax=cax)\n",
    "\n",
    "            plt.title('Preference\\ndifference', fontsize=10)\n",
    "            print(f'Min: {np.min(error_matrix)}\\tMax: {np.max(error_matrix)}')\n",
    "            cbar_labels = None\n",
    "            if np.max(error_matrix) != np.min(error_matrix): \n",
    "                changes_counter += 1\n",
    "                step = (np.max(error_matrix) - np.min(error_matrix)) / 5\n",
    "\n",
    "                if abs(np.min(error_matrix) - np.max(error_matrix)) < 0.00001:  \n",
    "                    cbar_ticks = np.linspace(np.min(error_matrix), np.max(error_matrix), 5, endpoint=True)\n",
    "                    cbar_labels = [f'{x:.2e}' for x in np.linspace(np.min(error_matrix), np.max(error_matrix), 5, endpoint=True)]\n",
    "                else:\n",
    "                    cbar_ticks = np.round(np.linspace(np.min(error_matrix), np.max(error_matrix), 5, endpoint=True), 4)\n",
    "            else:\n",
    "                cbar_ticks = [np.round(np.min(error_matrix), 3)]\n",
    "\n",
    "            cbar.ax.set_yticks(cbar_ticks)\n",
    "            if cbar_labels is None:\n",
    "                cbar.ax.set_yticklabels(cbar_ticks)\n",
    "            else:\n",
    "                cbar.ax.set_yticklabels(cbar_labels)\n",
    "\n",
    "            plt.tight_layout()\n",
    "            plt.show()\n",
    "    \n",
    "    changes_methods.append([changes_counter, round(changes_counter/(len(error)*len(combs))*100)])"
   ]
  },
  {
   "cell_type": "markdown",
   "metadata": {},
   "source": [
    "### Percent of changes in preferences for methods"
   ]
  },
  {
   "cell_type": "code",
   "execution_count": null,
   "metadata": {},
   "outputs": [],
   "source": [
    "for idx, name in enumerate(list(methods_dict.keys())):\n",
    "    print(f'{name}: Changes {changes_counter[idx][0]} ({changes_counter[idx][1]}%)')"
   ]
  }
 ],
 "metadata": {
  "kernelspec": {
   "display_name": "Python 3.10.5 64-bit",
   "language": "python",
   "name": "python3"
  },
  "language_info": {
   "codemirror_mode": {
    "name": "ipython",
    "version": 3
   },
   "file_extension": ".py",
   "mimetype": "text/x-python",
   "name": "python",
   "nbconvert_exporter": "python",
   "pygments_lexer": "ipython3",
   "version": "3.10.5"
  },
  "orig_nbformat": 4,
  "vscode": {
   "interpreter": {
    "hash": "eabca979b0553fa6d87e9a00c352604d3b703d4afc9641643dd42376492b80f6"
   }
  }
 },
 "nbformat": 4,
 "nbformat_minor": 2
}
