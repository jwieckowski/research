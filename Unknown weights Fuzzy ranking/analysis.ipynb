{
 "cells": [
  {
   "cell_type": "code",
   "execution_count": 1,
   "metadata": {},
   "outputs": [],
   "source": [
    "import numpy as np\n",
    "import pysensmcda\n",
    "import pandas as pd\n",
    "import pymcdm\n",
    "import matplotlib.pyplot as plt\n",
    "from tqdm import tqdm"
   ]
  },
  {
   "cell_type": "markdown",
   "metadata": {},
   "source": [
    "# DATA"
   ]
  },
  {
   "cell_type": "markdown",
   "metadata": {},
   "source": [
    "https://versus.com/en/drone?filter[]=median_price%3D11955,Infinity&sort=versusScore"
   ]
  },
  {
   "cell_type": "code",
   "execution_count": 2,
   "metadata": {},
   "outputs": [],
   "source": [
    "df = pd.DataFrame({\n",
    "    'Price': [23590, 13284, 20598, 16328, 23324, 15750], # EUR\n",
    "    'Maximum flight distance': [22.5, 7.0, 30.0, 7.0, 32.0, 32.0],  # KM\n",
    "    'Maximum flight time': [32, 30, 46, 30, 45, 45], # min\n",
    "    'Battery power': [3350, 5870, 5000, 5870, 5000, 5000], # mAh\n",
    "    'Megapixels': [48, 20, 20, 20, 48, 20], # MP\n",
    "    'Maximum ISO': [6400, 12800, 6400, 6400, 25600, 6400], # ISO light sensitivity level\n",
    "    'Weight': [898, 1390, 899, 1380, 920, 915], # grams\n",
    "    'Width': [440, 300, 283, 225, 347, 347], # mm\n",
    "})\n",
    "\n",
    "criteria_types = np.array([-1, 1, 1, 1, 1, 1, -1, -1])"
   ]
  },
  {
   "cell_type": "code",
   "execution_count": 3,
   "metadata": {},
   "outputs": [],
   "source": [
    "df['Price'] = np.round(df['Price'] / 4.30697, 2)"
   ]
  },
  {
   "cell_type": "code",
   "execution_count": 4,
   "metadata": {},
   "outputs": [
    {
     "data": {
      "text/html": [
       "<div>\n",
       "<style scoped>\n",
       "    .dataframe tbody tr th:only-of-type {\n",
       "        vertical-align: middle;\n",
       "    }\n",
       "\n",
       "    .dataframe tbody tr th {\n",
       "        vertical-align: top;\n",
       "    }\n",
       "\n",
       "    .dataframe thead th {\n",
       "        text-align: right;\n",
       "    }\n",
       "</style>\n",
       "<table border=\"1\" class=\"dataframe\">\n",
       "  <thead>\n",
       "    <tr style=\"text-align: right;\">\n",
       "      <th></th>\n",
       "      <th>Price</th>\n",
       "      <th>Maximum flight distance</th>\n",
       "      <th>Maximum flight time</th>\n",
       "      <th>Battery power</th>\n",
       "      <th>Megapixels</th>\n",
       "      <th>Maximum ISO</th>\n",
       "      <th>Weight</th>\n",
       "      <th>Width</th>\n",
       "    </tr>\n",
       "  </thead>\n",
       "  <tbody>\n",
       "    <tr>\n",
       "      <th>0</th>\n",
       "      <td>5477.17</td>\n",
       "      <td>22.5</td>\n",
       "      <td>32</td>\n",
       "      <td>3350</td>\n",
       "      <td>48</td>\n",
       "      <td>6400</td>\n",
       "      <td>898</td>\n",
       "      <td>440</td>\n",
       "    </tr>\n",
       "    <tr>\n",
       "      <th>1</th>\n",
       "      <td>3084.30</td>\n",
       "      <td>7.0</td>\n",
       "      <td>30</td>\n",
       "      <td>5870</td>\n",
       "      <td>20</td>\n",
       "      <td>12800</td>\n",
       "      <td>1390</td>\n",
       "      <td>300</td>\n",
       "    </tr>\n",
       "    <tr>\n",
       "      <th>2</th>\n",
       "      <td>4782.48</td>\n",
       "      <td>30.0</td>\n",
       "      <td>46</td>\n",
       "      <td>5000</td>\n",
       "      <td>20</td>\n",
       "      <td>6400</td>\n",
       "      <td>899</td>\n",
       "      <td>283</td>\n",
       "    </tr>\n",
       "    <tr>\n",
       "      <th>3</th>\n",
       "      <td>3791.06</td>\n",
       "      <td>7.0</td>\n",
       "      <td>30</td>\n",
       "      <td>5870</td>\n",
       "      <td>20</td>\n",
       "      <td>6400</td>\n",
       "      <td>1380</td>\n",
       "      <td>225</td>\n",
       "    </tr>\n",
       "    <tr>\n",
       "      <th>4</th>\n",
       "      <td>5415.41</td>\n",
       "      <td>32.0</td>\n",
       "      <td>45</td>\n",
       "      <td>5000</td>\n",
       "      <td>48</td>\n",
       "      <td>25600</td>\n",
       "      <td>920</td>\n",
       "      <td>347</td>\n",
       "    </tr>\n",
       "    <tr>\n",
       "      <th>5</th>\n",
       "      <td>3656.86</td>\n",
       "      <td>32.0</td>\n",
       "      <td>45</td>\n",
       "      <td>5000</td>\n",
       "      <td>20</td>\n",
       "      <td>6400</td>\n",
       "      <td>915</td>\n",
       "      <td>347</td>\n",
       "    </tr>\n",
       "  </tbody>\n",
       "</table>\n",
       "</div>"
      ],
      "text/plain": [
       "     Price  Maximum flight distance  Maximum flight time  Battery power  \\\n",
       "0  5477.17                     22.5                   32           3350   \n",
       "1  3084.30                      7.0                   30           5870   \n",
       "2  4782.48                     30.0                   46           5000   \n",
       "3  3791.06                      7.0                   30           5870   \n",
       "4  5415.41                     32.0                   45           5000   \n",
       "5  3656.86                     32.0                   45           5000   \n",
       "\n",
       "   Megapixels  Maximum ISO  Weight  Width  \n",
       "0          48         6400     898    440  \n",
       "1          20        12800    1390    300  \n",
       "2          20         6400     899    283  \n",
       "3          20         6400    1380    225  \n",
       "4          48        25600     920    347  \n",
       "5          20         6400     915    347  "
      ]
     },
     "execution_count": 4,
     "metadata": {},
     "output_type": "execute_result"
    }
   ],
   "source": [
    "df"
   ]
  },
  {
   "cell_type": "code",
   "execution_count": 5,
   "metadata": {},
   "outputs": [
    {
     "data": {
      "text/plain": [
       "array([[5.47717e+03, 2.25000e+01, 3.20000e+01, 3.35000e+03, 4.80000e+01,\n",
       "        6.40000e+03, 8.98000e+02, 4.40000e+02],\n",
       "       [3.08430e+03, 7.00000e+00, 3.00000e+01, 5.87000e+03, 2.00000e+01,\n",
       "        1.28000e+04, 1.39000e+03, 3.00000e+02],\n",
       "       [4.78248e+03, 3.00000e+01, 4.60000e+01, 5.00000e+03, 2.00000e+01,\n",
       "        6.40000e+03, 8.99000e+02, 2.83000e+02],\n",
       "       [3.79106e+03, 7.00000e+00, 3.00000e+01, 5.87000e+03, 2.00000e+01,\n",
       "        6.40000e+03, 1.38000e+03, 2.25000e+02],\n",
       "       [5.41541e+03, 3.20000e+01, 4.50000e+01, 5.00000e+03, 4.80000e+01,\n",
       "        2.56000e+04, 9.20000e+02, 3.47000e+02],\n",
       "       [3.65686e+03, 3.20000e+01, 4.50000e+01, 5.00000e+03, 2.00000e+01,\n",
       "        6.40000e+03, 9.15000e+02, 3.47000e+02]])"
      ]
     },
     "execution_count": 5,
     "metadata": {},
     "output_type": "execute_result"
    }
   ],
   "source": [
    "df.to_numpy()"
   ]
  },
  {
   "cell_type": "code",
   "execution_count": 6,
   "metadata": {},
   "outputs": [],
   "source": [
    "matrix = df.to_numpy()"
   ]
  },
  {
   "cell_type": "code",
   "execution_count": 7,
   "metadata": {},
   "outputs": [],
   "source": [
    "weights_1 = pysensmcda.criteria.generate_weights_scenarios(matrix.shape[1], 0.1, precision=2, return_array=True, save_zeros=False)\n",
    "weights_05 = pysensmcda.criteria.generate_weights_scenarios(matrix.shape[1], 0.05, precision=2, return_array=True, save_zeros=False)\n",
    "weights_04 = pysensmcda.criteria.generate_weights_scenarios(matrix.shape[1], 0.04, precision=2, return_array=True, save_zeros=False)\n",
    "weights_02 = pysensmcda.criteria.generate_weights_scenarios(matrix.shape[1], 0.02, precision=2, return_array=True, save_zeros=False)"
   ]
  },
  {
   "cell_type": "code",
   "execution_count": 8,
   "metadata": {},
   "outputs": [],
   "source": [
    "print(weights_1.shape)\n",
    "print(weights_05.shape)\n",
    "print(weights_04.shape)\n",
    "print(weights_02.shape)"
   ]
  },
  {
   "cell_type": "code",
   "execution_count": 9,
   "metadata": {},
   "outputs": [],
   "source": [
    "weights = weights_05"
   ]
  },
  {
   "cell_type": "code",
   "execution_count": 10,
   "metadata": {},
   "outputs": [
    {
     "data": {
      "text/plain": [
       "(50388, 8)"
      ]
     },
     "execution_count": 10,
     "metadata": {},
     "output_type": "execute_result"
    }
   ],
   "source": [
    "weights.shape"
   ]
  },
  {
   "cell_type": "code",
   "execution_count": 11,
   "metadata": {},
   "outputs": [
    {
     "data": {
      "text/plain": [
       "array([[0.05, 0.5 , 0.05, 0.05, 0.05, 0.05, 0.05, 0.2 ],\n",
       "       [0.1 , 0.45, 0.05, 0.05, 0.05, 0.05, 0.05, 0.2 ],\n",
       "       [0.15, 0.4 , 0.05, 0.05, 0.05, 0.05, 0.05, 0.2 ],\n",
       "       [0.2 , 0.35, 0.05, 0.05, 0.05, 0.05, 0.05, 0.2 ],\n",
       "       [0.25, 0.3 , 0.05, 0.05, 0.05, 0.05, 0.05, 0.2 ]])"
      ]
     },
     "execution_count": 11,
     "metadata": {},
     "output_type": "execute_result"
    }
   ],
   "source": [
    "weights[0:5]"
   ]
  },
  {
   "cell_type": "code",
   "execution_count": 12,
   "metadata": {},
   "outputs": [
    {
     "data": {
      "text/plain": [
       "array([0.05, 0.05, 0.05, 0.05, 0.05, 0.05, 0.05, 0.65])"
      ]
     },
     "execution_count": 12,
     "metadata": {},
     "output_type": "execute_result"
    }
   ],
   "source": [
    "weights[-1]"
   ]
  },
  {
   "cell_type": "markdown",
   "metadata": {},
   "source": [
    "# MCDA EVALUATION"
   ]
  },
  {
   "cell_type": "code",
   "execution_count": 13,
   "metadata": {},
   "outputs": [],
   "source": [
    "mairca = pymcdm.methods.MAIRCA()"
   ]
  },
  {
   "cell_type": "code",
   "execution_count": 14,
   "metadata": {},
   "outputs": [
    {
     "name": "stderr",
     "output_type": "stream",
     "text": [
      "100%|██████████| 50388/50388 [00:20<00:00, 2434.83it/s]\n"
     ]
    }
   ],
   "source": [
    "preferences, rankings = [], []\n",
    "for i in tqdm(range(len(weights))):\n",
    "    w = weights[i]\n",
    "    prefs = mairca(matrix, w, criteria_types)\n",
    "    rank = mairca.rank(prefs)\n",
    "\n",
    "    preferences.append(list(prefs))\n",
    "    rankings.append(list(rank))"
   ]
  },
  {
   "cell_type": "code",
   "execution_count": 15,
   "metadata": {},
   "outputs": [
    {
     "name": "stdout",
     "output_type": "stream",
     "text": [
      "0.0 & 0.01 & 0.02 & 0.01 & 1.0 & 0.11\n",
      "0.12 & 0.11 & 0.7 & 0.02 & 0.17 & 1.0\n",
      "0.03 & 0.1 & 1.0 & 0.06 & 0.07 & 0.73\n",
      "1.0 & 0.9 & 0.31 & 0.4 & 0.03 & 0.13\n",
      "0.2 & 1.0 & 0.08 & 0.85 & 0.02 & 0.04\n",
      "1.0 & 0.21 & 0.0 & 0.87 & 0.0 & 0.0\n"
     ]
    }
   ],
   "source": [
    "rankings = np.array(rankings)\n",
    "fuzzy_rank = pysensmcda.ranking.fuzzy_ranking(rankings, normalization_axis=1)\n",
    "a = np.round(fuzzy_rank, 2)\n",
    "for row in a:\n",
    "    print(' & '.join([str(r) for r in row]))\n"
   ]
  },
  {
   "cell_type": "code",
   "execution_count": 17,
   "metadata": {},
   "outputs": [
    {
     "data": {
      "text/plain": [
       "array([5., 4., 3., 6., 1., 2.])"
      ]
     },
     "execution_count": 17,
     "metadata": {},
     "output_type": "execute_result"
    }
   ],
   "source": [
    "fuzzy_rank = pysensmcda.ranking.fuzzy_ranking(rankings, normalization_axis=1)\n",
    "positions = np.arange(1, fuzzy_rank.shape[0] + 1)\n",
    "weighted_rank = (fuzzy_rank.T * positions).T\n",
    "weighted_rank = np.sum(weighted_rank, axis=0)\n",
    "rank_fr = pymcdm.helpers.rankdata(weighted_rank)\n",
    "rank_fr"
   ]
  },
  {
   "cell_type": "code",
   "execution_count": 35,
   "metadata": {},
   "outputs": [
    {
     "data": {
      "image/png": "[encoded data removed]",
      "text/plain": [
       "<Figure size 360x360 with 2 Axes>"
      ]
     },
     "metadata": {
      "needs_background": "light"
     },
     "output_type": "display_data"
    }
   ],
   "source": [
    "ax = pysensmcda.graphs.heatmap(fuzzy_rank, figsize=(5, 5))\n",
    "plt.xlabel('Alternatives', fontsize=16)\n",
    "plt.ylabel('Positions', fontsize=16)\n",
    "plt.title('Fuzzy Ranking Matrix', fontsize=18)\n",
    "x = np.arange(0, matrix.shape[0])\n",
    "plt.yticks(x+0.5, x+1, fontsize=14)\n",
    "plt.xticks(x+0.5, [f'$A_{{{i+1}}}$' for i in x], fontsize=14)\n",
    "ax.figure.axes[-1].yaxis.label.set_size(16)\n",
    "plt.savefig('img/heatmap_05.jpg', dpi=200)\n",
    "plt.show()\n",
    "plt.close()"
   ]
  },
  {
   "cell_type": "code",
   "execution_count": 43,
   "metadata": {},
   "outputs": [
    {
     "name": "stderr",
     "output_type": "stream",
     "text": [
      "100%|██████████| 36/36 [00:00<00:00, 3500.11it/s]\n",
      "100%|██████████| 346104/346104 [02:28<00:00, 2323.10it/s]\n"
     ]
    }
   ],
   "source": [
    "preferences_1, rankings_1 = [], []\n",
    "preferences_04, rankings_04 = [], []\n",
    "\n",
    "for i in tqdm(range(len(weights_1))):\n",
    "    w = weights_1[i]\n",
    "    prefs = mairca(matrix, w, criteria_types)\n",
    "    rank = mairca.rank(prefs)\n",
    "\n",
    "    preferences_1.append(list(prefs))\n",
    "    rankings_1.append(list(rank))\n",
    "\n",
    "for i in tqdm(range(len(weights_04))):\n",
    "    w = weights_04[i]\n",
    "    prefs = mairca(matrix, w, criteria_types)\n",
    "    rank = mairca.rank(prefs)\n",
    "\n",
    "    preferences_04.append(list(prefs))\n",
    "    rankings_04.append(list(rank))"
   ]
  },
  {
   "cell_type": "code",
   "execution_count": 44,
   "metadata": {},
   "outputs": [],
   "source": [
    "rankings_1 = np.array(rankings_1)\n",
    "fuzzy_rank_1 = pysensmcda.ranking.fuzzy_ranking(rankings_1, normalization_axis=1)\n",
    "\n",
    "rankings_04 = np.array(rankings_04)\n",
    "fuzzy_rank_04 = pysensmcda.ranking.fuzzy_ranking(rankings_04, normalization_axis=1)"
   ]
  },
  {
   "cell_type": "code",
   "execution_count": 57,
   "metadata": {},
   "outputs": [
    {
     "data": {
      "image/png": "[encoded data removed]",
      "text/plain": [
       "<Figure size 1008x432 with 4 Axes>"
      ]
     },
     "metadata": {
      "needs_background": "light"
     },
     "output_type": "display_data"
    }
   ],
   "source": [
    "fig, axes = plt.subplots(1, 2, figsize=(14, 6))\n",
    "\n",
    "ax = pysensmcda.graphs.heatmap(fuzzy_rank_1, ax=axes[0])\n",
    "axes[0].set_xlabel('Alternatives', fontsize=16)\n",
    "axes[0].set_ylabel('Positions', fontsize=16)\n",
    "axes[0].set_title('Fuzzy Ranking (step 0.10)', fontsize=18)\n",
    "x = np.arange(0, matrix.shape[0])\n",
    "axes[0].set_xticks(x + 0.5)\n",
    "axes[0].set_xticklabels([f'$A_{{{i+1}}}$' for i in x], fontsize=16)\n",
    "axes[0].set_yticks(x + 0.5)\n",
    "axes[0].set_yticklabels(x + 1, fontsize=16)\n",
    "axes[0].figure.axes[-1].yaxis.label.set_size(16)\n",
    "\n",
    "ax = pysensmcda.graphs.heatmap(fuzzy_rank_04, ax=axes[1])\n",
    "axes[1].set_xlabel('Alternatives', fontsize=16)\n",
    "axes[1].set_ylabel('Positions', fontsize=16)\n",
    "axes[1].set_title('Fuzzy Ranking (step 0.04)', fontsize=18)\n",
    "axes[1].set_xticks(x + 0.5)\n",
    "axes[1].set_xticklabels([f'$A_{{{i+1}}}$' for i in x], fontsize=16)\n",
    "axes[1].set_yticks(x + 0.5)\n",
    "axes[1].set_yticklabels(x + 1, fontsize=16)\n",
    "axes[1].figure.axes[-1].yaxis.label.set_size(16)\n",
    "plt.subplots_adjust(wspace=0.4) \n",
    "plt.tight_layout()\n",
    "plt.savefig('img/heatmaps_01_004.jpg', dpi=200)\n",
    "plt.show()\n",
    "plt.close()"
   ]
  },
  {
   "cell_type": "markdown",
   "metadata": {},
   "source": [
    "# COMPARATIVE ANALYSIS"
   ]
  },
  {
   "cell_type": "code",
   "execution_count": 42,
   "metadata": {},
   "outputs": [],
   "source": [
    "weights_methods = {\n",
    "    'Angle': pymcdm.weights.angle_weights, \n",
    "    'Entropy': pymcdm.weights.entropy_weights,\n",
    "    'Gini': pymcdm.weights.gini_weights,\n",
    "    'MEREC': pymcdm.weights.merec_weights,\n",
    "    'IDOCRIW': pymcdm.weights.idocriw_weights\n",
    "}\n",
    "\n",
    "compromise = {\n",
    "    'Borda': pysensmcda.compromise.borda,\n",
    "    'DDG': pysensmcda.compromise.dominance_directed_graph,\n",
    "    'Rank position': pysensmcda.compromise.rank_position\n",
    "}"
   ]
  },
  {
   "cell_type": "code",
   "execution_count": 23,
   "metadata": {},
   "outputs": [
    {
     "name": "stdout",
     "output_type": "stream",
     "text": [
      "Angle [4. 5. 3. 6. 1. 2.]\n",
      "Entropy [3. 5. 4. 6. 1. 2.]\n",
      "Gini [4. 5. 3. 6. 1. 2.]\n",
      "MEREC [4. 5. 3. 6. 1. 2.]\n",
      "IDOCRIW [2. 5. 4. 6. 1. 3.]\n"
     ]
    }
   ],
   "source": [
    "for k, m in weights_methods.items():\n",
    "    w_obj = m(matrix, criteria_types)\n",
    "    pref = mairca(matrix, w_obj, criteria_types)\n",
    "    rank = mairca.rank(pref)\n",
    "    print(k, rank)"
   ]
  },
  {
   "cell_type": "code",
   "execution_count": 41,
   "metadata": {},
   "outputs": [
    {
     "name": "stdout",
     "output_type": "stream",
     "text": [
      "Borda [5. 4. 3. 6. 1. 2.]\n",
      "DDG [5. 4. 3. 6. 1. 2.]\n",
      "Improved borda [2. 3. 4. 1. 6. 5.]\n",
      "Rank position [5. 4. 3. 6. 1. 2.]\n"
     ]
    }
   ],
   "source": [
    "for name, m in compromise.items():\n",
    "    print(name, m(np.array(rankings).T))"
   ]
  }
 ],
 "metadata": {
  "kernelspec": {
   "display_name": "Python 3.10.5 64-bit",
   "language": "python",
   "name": "python3"
  },
  "language_info": {
   "codemirror_mode": {
    "name": "ipython",
    "version": 3
   },
   "file_extension": ".py",
   "mimetype": "text/x-python",
   "name": "python",
   "nbconvert_exporter": "python",
   "pygments_lexer": "ipython3",
   "version": "3.10.5"
  },
  "orig_nbformat": 4,
  "vscode": {
   "interpreter": {
    "hash": "eabca979b0553fa6d87e9a00c352604d3b703d4afc9641643dd42376492b80f6"
   }
  }
 },
 "nbformat": 4,
 "nbformat_minor": 2
}
